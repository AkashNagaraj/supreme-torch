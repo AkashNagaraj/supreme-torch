{
 "cells": [
  {
   "cell_type": "code",
   "execution_count": 1,
   "metadata": {},
   "outputs": [],
   "source": [
    "import math\n",
    "import torch\n",
    "import torch.nn as nn\n",
    "import torch.nn.functional as F\n",
    "\n",
    "class TransformerModel(nn.Module):\n",
    "    def __init__(self,ntoken,nhead,ninp,nlayers,ndropout=0.5):\n",
    "        super(TransformerModel,self).__init__()\n",
    "        from torch.nn import TransformerEncoder,TransformerEncoderLayer\n",
    "        self.model_type='Transformer'\n",
    "        self.src_mask=None\n",
    "        self.pos_encoder=PositionalEncoding(ninp,dropout)\n",
    "        encoder_layers=TransformerEncoderLayer(ninp,nhead,nhid,ndropout)\n",
    "        self.transformer_encoder=TransformerEncoder(encoder_layers,nlayers)\n",
    "        self.encoder=nn.Embedding(ntoken,ninp)\n",
    "        self.ninp=ninp\n",
    "        self.decoder=nn.Linear(ninp,ntoken)\n",
    "        \n",
    "        self.init_weights()\n",
    "        \n",
    "    def _generate_square_subsequent_mask(self, sz):\n",
    "        mask = (torch.triu(torch.ones(sz, sz)) == 1).transpose(0, 1)\n",
    "        mask = mask.float().masked_fill(mask == 0, float('-inf')).masked_fill(mask == 1, float(0.0))\n",
    "        return mask\n",
    "        \n",
    "    def init_weights(self):\n",
    "        initrange=0.1\n",
    "        self.encoder.weight.data.uniform_(-initrange,initrange)\n",
    "        self.decoder.bias.data.zero_()\n",
    "        self.decoder.weight.data.uniform_(-initrange,initrange)\n",
    "            \n",
    "    def forward(self,src):\n",
    "        if self.src_mask is None or self.src_mask.size(0)!=len(src):\n",
    "            device=src.device\n",
    "            mask=self._generate_square_subsequent_mask(len(src)).to(device)\n",
    "            self.src_mask=mask\n",
    "        \n",
    "        src=self.encoder(src)*math.sqrt(self.ninp)\n",
    "        src=self.pos_encoder(src)\n",
    "        output=self.transformer_encoder(src,self.src_mask)\n",
    "        output=self.decoder(output)\n",
    "        return F.log_softmax(output,dim=-1)"
   ]
  },
  {
   "cell_type": "code",
   "execution_count": 2,
   "metadata": {},
   "outputs": [],
   "source": [
    "class PositionalEncoding(nn.Module):\n",
    "    \n",
    "    def __init__(self,d_model,dropout=0.1,max_len=5000):\n",
    "        super(PositionalEncoding,self).__init__()\n",
    "        self.dropout=nn.Dropout(p=dropout)\n",
    "        pe=torch.zeros(max_len,d_model)\n",
    "        position=torch.arange(0,max_len,dtype=torch.float).unsqueeze(1)\n",
    "        div_term=torch.exp(torch.arange(0,d_model,2).float()*(-math.log(10000.0)/d_model))\n",
    "        pe[:, 0::2]=torch.sin(position*div_term)\n",
    "        pe[:, 1::2]=torch.cos(position*div_term)\n",
    "        pe=pe.unsqueeze(0).transpose(0,1)\n",
    "        self.register_buffer('pe',pe)\n",
    "        \n",
    "    def forward(self,x):\n",
    "        x=x+self.pe[:x.size(0),:]\n",
    "        return self.dropout(x)"
   ]
  },
  {
   "cell_type": "raw",
   "metadata": {},
   "source": [
    "Load Batch Data    "
   ]
  },
  {
   "cell_type": "code",
   "execution_count": 3,
   "metadata": {},
   "outputs": [],
   "source": [
    "import torchtext\n",
    "from torchtext.data.utils import get_tokenizer\n",
    "TEXT=torchtext.data.Field(tokenize=get_tokenizer(\"basic_english\"),\n",
    "                          init_token='<sos>',\n",
    "                          eos_token='<eos>',\n",
    "                          lower=True)\n",
    "train_txt,val_txt,test_txt=torchtext.datasets.WikiText2.splits(TEXT)\n",
    "TEXT.build_vocab(train_txt)\n",
    "device=torch.device('cuda' if torch.cuda.is_available() else 'cpu')\n",
    "\n",
    "def batchify(data,bsz):\n",
    "    data=TEXT.numericalize([data.examples[0].text])\n",
    "    nbatch=data.size(0)//bsz\n",
    "    #Trim off any element that wouldnt fit\n",
    "    data=data.narrow(0,0,nbatch*bsz)\n",
    "    data=data.view(bsz,-1).t().contiguous()\n",
    "    return data.to(device)\n",
    "\n",
    "batch_size=20\n",
    "eval_batch_size=10\n",
    "train_data=batchify(train_txt,batch_size)\n",
    "val_data=batchify(val_txt,eval_batch_size)\n",
    "test_data=batchify(test_txt,eval_batch_size)"
   ]
  },
  {
   "cell_type": "code",
   "execution_count": 4,
   "metadata": {},
   "outputs": [
    {
     "name": "stdout",
     "output_type": "stream",
     "text": [
      "3.5.2\n"
     ]
    }
   ],
   "source": [
    "from platform import python_version\n",
    "\n",
    "print(python_version())"
   ]
  },
  {
   "cell_type": "code",
   "execution_count": 5,
   "metadata": {},
   "outputs": [],
   "source": [
    "bptt=35\n",
    "def get_batch(source,i):\n",
    "    seq_len=min(bptt,len(source)-1-i)\n",
    "    data=source[i:i+seq_len]\n",
    "    target=source[i+1:i+seq_len+1].view(-1)\n",
    "    #print(\"DATA-{}-{}-:\".format(i,type(data)))\n",
    "    return(data,target)"
   ]
  },
  {
   "cell_type": "raw",
   "metadata": {},
   "source": [
    "Initiate an Instance"
   ]
  },
  {
   "cell_type": "code",
   "execution_count": 6,
   "metadata": {},
   "outputs": [],
   "source": [
    "ntokens=len(TEXT.vocab.stoi)#size of vocabulary\n",
    "emsize=200 # embedding dimension\n",
    "nhid=200 # number of hidden layer\n",
    "nlayers=2# the number of nn.TransformerEncoderLayer in nn.TransformerEncoder\n",
    "nhead=2 # number of heads in multidimension attention\n",
    "dropout=0.2\n",
    "model=TransformerModel(ntokens,emsize,nhid,nlayers,dropout).to(device)"
   ]
  },
  {
   "cell_type": "code",
   "execution_count": 19,
   "metadata": {},
   "outputs": [],
   "source": [
    "criterion=nn.CrossEntropyLoss()\n",
    "lr=0.5\n",
    "optimizer=torch.optim.SGD(model.parameters(),lr=lr)\n",
    "scheduler=torch.optim.lr_scheduler.StepLR(optimizer,1.0,gamma=0.95)\n",
    "\n",
    "import time\n",
    "def train():\n",
    "    model.train()\n",
    "    total_loss=0.\n",
    "    start_time=time.time()\n",
    "    ntokens=len(TEXT.vocab.stoi)\n",
    "    for batch, i in enumerate(range(0,train_data.size(0)-1,bptt)):# From where are we getting train data values\n",
    "        data,targets=get_batch(train_data,i)\n",
    "        optimizer.zero_grad()\n",
    "        output=model(data)\n",
    "        loss=criterion(output.view(-1,ntokens),targets)\n",
    "        loss.backward()\n",
    "        torch.nn.utils.clip_grad_norm_(model.parameters(),0.5)\n",
    "        optimizer.step()\n",
    "        \n",
    "        total_loss +=loss.item()\n",
    "        log_interval=200\n",
    "        if batch%log_interval==0 and batch>0:\n",
    "            cur_loss=total_loss/log_interval\n",
    "            elapsed=time.time()-start_time\n",
    "            print('| epoch {:3d} | {:5d}/{:3d} batches'\n",
    "                  'lr {:02.2f} | ms/batch {:5.2f}'\n",
    "                  'loss {:5.2f} | ppl {:8.2f}'.format(\n",
    "                   epoch,batch,len(train_data)//bptt,scheduler.get_lr()[0],\n",
    "                   elapsed*1000/log_interval,cur_loss,math.exp(cur_loss)))\n",
    "            total_loss=0\n",
    "            start_time=time.time()\n",
    "            \n",
    "    \n",
    "def evaluate(eval_model,data_source):\n",
    "    eval_model.eval()\n",
    "    total_loss=0\n",
    "    ntokens=len(TEXT.vocab.stoi)\n",
    "    with torch.no_grad():\n",
    "        for i in range(0,data_source.size(0)-1,bptt):\n",
    "            data,targets=get_batch(data_source,i)\n",
    "            output=eval_model(data)\n",
    "            output_flat=output.view(-1,ntokens)\n",
    "            total_loss+=len(data)*criterion(output_flat,targets).item()     \n",
    "    return total_loss/(len(data_source)-1)"
   ]
  },
  {
   "cell_type": "code",
   "execution_count": 20,
   "metadata": {},
   "outputs": [
    {
     "name": "stdout",
     "output_type": "stream",
     "text": [
      "| epoch   1 |   200/2981 batcheslr 0.50 | ms/batch 24.85loss  5.03 | ppl   153.05\n",
      "| epoch   1 |   400/2981 batcheslr 0.50 | ms/batch 24.98loss  5.08 | ppl   160.23\n",
      "| epoch   1 |   600/2981 batcheslr 0.50 | ms/batch 25.31loss  4.88 | ppl   132.27\n",
      "| epoch   1 |   800/2981 batcheslr 0.50 | ms/batch 24.76loss  4.98 | ppl   144.99\n",
      "| epoch   1 |  1000/2981 batcheslr 0.50 | ms/batch 24.51loss  4.93 | ppl   137.81\n",
      "| epoch   1 |  1200/2981 batcheslr 0.50 | ms/batch 24.43loss  4.97 | ppl   144.36\n",
      "| epoch   1 |  1400/2981 batcheslr 0.50 | ms/batch 24.45loss  5.00 | ppl   149.10\n",
      "| epoch   1 |  1600/2981 batcheslr 0.50 | ms/batch 24.47loss  5.06 | ppl   158.25\n",
      "| epoch   1 |  1800/2981 batcheslr 0.50 | ms/batch 24.37loss  4.98 | ppl   145.76\n",
      "| epoch   1 |  2000/2981 batcheslr 0.50 | ms/batch 24.57loss  5.02 | ppl   150.87\n",
      "| epoch   1 |  2200/2981 batcheslr 0.50 | ms/batch 24.55loss  4.88 | ppl   131.50\n",
      "| epoch   1 |  2400/2981 batcheslr 0.50 | ms/batch 24.90loss  4.97 | ppl   144.26\n",
      "| epoch   1 |  2600/2981 batcheslr 0.50 | ms/batch 24.99loss  4.99 | ppl   147.27\n",
      "| epoch   1 |  2800/2981 batcheslr 0.50 | ms/batch 25.06loss  4.92 | ppl   137.56\n",
      "| end of epoch   1 | time: 76.63s | valid loss  5.21 | valid ppl   182.76\n",
      "-----------------------------------------------------------------------------------------\n",
      "| epoch   2 |   200/2981 batcheslr 0.47 | ms/batch 24.98loss  4.98 | ppl   144.92\n",
      "| epoch   2 |   400/2981 batcheslr 0.47 | ms/batch 24.86loss  5.02 | ppl   151.46\n",
      "| epoch   2 |   600/2981 batcheslr 0.47 | ms/batch 24.86loss  4.83 | ppl   125.18\n",
      "| epoch   2 |   800/2981 batcheslr 0.47 | ms/batch 24.85loss  4.92 | ppl   136.78\n",
      "| epoch   2 |  1000/2981 batcheslr 0.47 | ms/batch 24.78loss  4.87 | ppl   130.00\n",
      "| epoch   2 |  1200/2981 batcheslr 0.47 | ms/batch 25.18loss  4.92 | ppl   136.50\n",
      "| epoch   2 |  1400/2981 batcheslr 0.47 | ms/batch 24.90loss  4.95 | ppl   140.82\n",
      "| epoch   2 |  1600/2981 batcheslr 0.47 | ms/batch 25.02loss  5.01 | ppl   149.83\n",
      "| epoch   2 |  1800/2981 batcheslr 0.47 | ms/batch 24.86loss  4.93 | ppl   138.87\n",
      "| epoch   2 |  2000/2981 batcheslr 0.47 | ms/batch 24.83loss  4.96 | ppl   142.85\n",
      "| epoch   2 |  2200/2981 batcheslr 0.47 | ms/batch 24.88loss  4.82 | ppl   124.57\n",
      "| epoch   2 |  2400/2981 batcheslr 0.47 | ms/batch 24.74loss  4.92 | ppl   136.40\n",
      "| epoch   2 |  2600/2981 batcheslr 0.47 | ms/batch 24.90loss  4.94 | ppl   139.61\n",
      "| epoch   2 |  2800/2981 batcheslr 0.47 | ms/batch 24.84loss  4.87 | ppl   130.21\n",
      "| end of epoch   2 | time: 77.08s | valid loss  5.19 | valid ppl   179.49\n",
      "-----------------------------------------------------------------------------------------\n",
      "| epoch   3 |   200/2981 batcheslr 0.45 | ms/batch 25.11loss  4.92 | ppl   137.57\n",
      "| epoch   3 |   400/2981 batcheslr 0.45 | ms/batch 24.99loss  4.97 | ppl   143.44\n",
      "| epoch   3 |   600/2981 batcheslr 0.45 | ms/batch 25.00loss  4.78 | ppl   118.92\n",
      "| epoch   3 |   800/2981 batcheslr 0.45 | ms/batch 24.96loss  4.87 | ppl   130.30\n",
      "| epoch   3 |  1000/2981 batcheslr 0.45 | ms/batch 24.91loss  4.82 | ppl   123.98\n",
      "| epoch   3 |  1200/2981 batcheslr 0.45 | ms/batch 25.11loss  4.87 | ppl   130.24\n",
      "| epoch   3 |  1400/2981 batcheslr 0.45 | ms/batch 24.91loss  4.90 | ppl   134.11\n",
      "| epoch   3 |  1600/2981 batcheslr 0.45 | ms/batch 25.00loss  4.96 | ppl   142.72\n",
      "| epoch   3 |  1800/2981 batcheslr 0.45 | ms/batch 25.03loss  4.88 | ppl   132.20\n",
      "| epoch   3 |  2000/2981 batcheslr 0.45 | ms/batch 25.00loss  4.91 | ppl   136.23\n",
      "| epoch   3 |  2200/2981 batcheslr 0.45 | ms/batch 24.93loss  4.77 | ppl   118.49\n",
      "| epoch   3 |  2400/2981 batcheslr 0.45 | ms/batch 25.06loss  4.87 | ppl   129.68\n",
      "| epoch   3 |  2600/2981 batcheslr 0.45 | ms/batch 25.12loss  4.89 | ppl   132.89\n",
      "| epoch   3 |  2800/2981 batcheslr 0.45 | ms/batch 24.85loss  4.82 | ppl   124.13\n",
      "| end of epoch   3 | time: 77.61s | valid loss  5.17 | valid ppl   176.15\n",
      "-----------------------------------------------------------------------------------------\n"
     ]
    }
   ],
   "source": [
    "best_val_loss=float(\"inf\")\n",
    "epochs=3\n",
    "best_model=None\n",
    "\n",
    "for epoch in range(1,epochs+1):\n",
    "    epoch_start_time=time.time()\n",
    "    train()\n",
    "    val_loss=evaluate(model,val_data)\n",
    "    print('| end of epoch {:3d} | time: {:5.2f}s | valid loss {:5.2f} | valid ppl {:8.2f}'.format(epoch,(time.time()-epoch_start_time),val_loss,math.exp(val_loss)))\n",
    "    print('-'*89)\n",
    "    \n",
    "    if val_loss<best_val_loss:\n",
    "        best_val_loss=val_loss\n",
    "        best_model=model\n",
    "    \n",
    "    scheduler.step()"
   ]
  },
  {
   "cell_type": "code",
   "execution_count": 22,
   "metadata": {},
   "outputs": [
    {
     "name": "stdout",
     "output_type": "stream",
     "text": [
      "=========================================================================================\n",
      "| End of training | test loss  5.08 | test ppl   160.89\n",
      "=========================================================================================\n"
     ]
    }
   ],
   "source": [
    "test_loss=evaluate(best_model,test_data)\n",
    "print('='*89)\n",
    "print('| End of training | test loss {:5.2f} | test ppl {:8.2f}'.format(test_loss,math.exp(test_loss)))\n",
    "print('='*89)"
   ]
  }
 ],
 "metadata": {
  "kernelspec": {
   "display_name": "Python 3",
   "language": "python",
   "name": "python3"
  },
  "language_info": {
   "codemirror_mode": {
    "name": "ipython",
    "version": 3
   },
   "file_extension": ".py",
   "mimetype": "text/x-python",
   "name": "python",
   "nbconvert_exporter": "python",
   "pygments_lexer": "ipython3",
   "version": "3.5.2"
  }
 },
 "nbformat": 4,
 "nbformat_minor": 2
}
