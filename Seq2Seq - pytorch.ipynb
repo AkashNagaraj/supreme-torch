{
 "cells": [
  {
   "cell_type": "code",
   "execution_count": 1,
   "metadata": {},
   "outputs": [],
   "source": [
    "import math\n",
    "import torch\n",
    "import torch.nn as nn\n",
    "import torch.nn.functional as F\n",
    "\n",
    "class TransformerModel(nn.Module):\n",
    "    def __init__(self,ntoken,nhead,ninp,nlayers,dropout=0.5):\n",
    "        super(TransformerModel,self).__init__()\n",
    "        from torch.nn import TransformerEncoder,TransformerEncoderLayer\n",
    "        self.model_type='Transformer'\n",
    "        self.src_mask=None\n",
    "        self.pos_encoder=PositionalEncoding(ninp,dropout)\n",
    "        encoder_layers=TransformerEncoderLayer(ninp,nhead,nhid,ndropout)\n",
    "        self.transformer_encoder=TransformerEncoder(encoder_layers,nlayers)\n",
    "        self.encoder=nn.Embedding(ntoken,ninp)\n",
    "        self.ninp=ninp\n",
    "        self.decode=nn.Linear(ninp,ntoken)\n",
    "        \n",
    "        self.init_weights()\n",
    "        \n",
    "    def _generate_square_subsequent_mask(self,sz):\n",
    "        mask=(torch.triu(torch.ones(sz,sz))==1).transpose(0,1)\n",
    "        mask=mask.float().masked_fill(mask==0,float('-inf')).masked.fill(mask==1,float(0.0))\n",
    "        return mask\n",
    "        \n",
    "    def init_weights(self):\n",
    "        initrange=0.1\n",
    "        self.encoder.weight.data.uniform_(-initrange,intirange)\n",
    "        self.decoder.bias.data.zero_()\n",
    "        self.decoder.weight.data.uniform._(-initrange,initrange)\n",
    "            \n",
    "    def forward(self,src):\n",
    "        if self.src_mask is None or self.src_mask.size(0)!=len(src):\n",
    "            device=src.device()\n",
    "            mask=self._generate_square_subsequent_mask(len(src)).to(device)\n",
    "            self.src_mask=mask\n",
    "        \n",
    "        src=self.encoder(src)*math.sqrt(self.ninp)\n",
    "        src=self.pos_encoder(src)\n",
    "        output=self.transformer_encoder(src,self.src_mask)\n",
    "        output=self.decoder(output)\n",
    "        return F.log_softmax(output,dim=-1)"
   ]
  },
  {
   "cell_type": "code",
   "execution_count": 2,
   "metadata": {},
   "outputs": [],
   "source": [
    "class PositionalEncoding():\n",
    "    \n",
    "    def __init__(self,d_model,dropout=0.1,max_len=5000):\n",
    "        super(PositionalEncoding,self).__init__()\n",
    "        self.dropout=nn.Dropout(p=dropout)\n",
    "        \n",
    "        pe=torch.zeros(max_len,d_model)\n",
    "        position=torch.arange(0,max_len,dtype=torch.float).unsqueeze(1)\n",
    "        div_term=torch.exp(torch.arange(0,d_model,2).float()*(-math.log(10000.0)/d_model))\n",
    "        pe[:, 0::2]=torch.sin(position*div_term)\n",
    "        pe[:, 0::1]=torch.cos(position*div_term)\n",
    "        pe=pe.unsqueeze(0).transpose(0,1)\n",
    "        self.register_buffer('pe',pe)\n",
    "        \n",
    "    def forward(self,x):\n",
    "        x=x+self.pe[:x.size(0),:]\n",
    "        return self.dropout(x)"
   ]
  },
  {
   "cell_type": "raw",
   "metadata": {},
   "source": [
    "Load Batch Data    "
   ]
  },
  {
   "cell_type": "code",
   "execution_count": 3,
   "metadata": {},
   "outputs": [
    {
     "ename": "ModuleNotFoundError",
     "evalue": "No module named 'torchtext'",
     "output_type": "error",
     "traceback": [
      "\u001b[0;31m---------------------------------------------------------------------------\u001b[0m",
      "\u001b[0;31mModuleNotFoundError\u001b[0m                       Traceback (most recent call last)",
      "\u001b[0;32m<ipython-input-3-54856d7a6ea9>\u001b[0m in \u001b[0;36m<module>\u001b[0;34m\u001b[0m\n\u001b[0;32m----> 1\u001b[0;31m \u001b[0;32mimport\u001b[0m \u001b[0mtorchtext\u001b[0m\u001b[0;34m\u001b[0m\u001b[0;34m\u001b[0m\u001b[0m\n\u001b[0m\u001b[1;32m      2\u001b[0m \u001b[0;32mfrom\u001b[0m \u001b[0mtorch\u001b[0m\u001b[0;34m.\u001b[0m\u001b[0mtext\u001b[0m\u001b[0;34m.\u001b[0m\u001b[0mutils\u001b[0m \u001b[0;32mimport\u001b[0m \u001b[0mget_tokenizer\u001b[0m\u001b[0;34m\u001b[0m\u001b[0;34m\u001b[0m\u001b[0m\n\u001b[1;32m      3\u001b[0m TEXT=torchtext.data.Field(tokenize=get_tokenizer(\"basic_english\"),\n\u001b[1;32m      4\u001b[0m                           \u001b[0minit_token\u001b[0m\u001b[0;34m=\u001b[0m\u001b[0;34m'<sos>'\u001b[0m\u001b[0;34m,\u001b[0m\u001b[0;34m\u001b[0m\u001b[0;34m\u001b[0m\u001b[0m\n\u001b[1;32m      5\u001b[0m                           \u001b[0meos_token\u001b[0m\u001b[0;34m=\u001b[0m\u001b[0;34m'<eos>'\u001b[0m\u001b[0;34m,\u001b[0m\u001b[0;34m\u001b[0m\u001b[0;34m\u001b[0m\u001b[0m\n",
      "\u001b[0;31mModuleNotFoundError\u001b[0m: No module named 'torchtext'"
     ]
    }
   ],
   "source": [
    "import torchtext\n",
    "from torch.text.utils import get_tokenizer\n",
    "TEXT=torchtext.data.Field(tokenize=get_tokenizer(\"basic_english\"),\n",
    "                          init_token='<sos>',\n",
    "                          eos_token='<eos>',\n",
    "                          lower=True)\n",
    "train_txt,val_txt,test_txt=torchtext.datasets.WikiText2.splits(TEXT)\n",
    "TEXT.build_vocab(train_txt)\n",
    "device=torch.device('cuda' if torch.cuda.is_available() else 'cpu')\n",
    "\n",
    "def batchify(data,bsz):\n",
    "    data=TEXT.numercalize([data.examples[0].text])\n",
    "    nbatch=data.size(0)//bsz\n",
    "    #Trim off any element that wouldnt fit\n",
    "    data=data.narrow(0,0,nbatch*bsz)\n",
    "    data=data.view(bsz,-1).t().contiguous()\n",
    "    return data.to(device)\n",
    "\n",
    "batch_size=20\n",
    "eval_batch_size=10\n",
    "train_data=batchify(train_txt,batch_size)\n",
    "val_data=batchify(val_txt,eval_batch_size)\n",
    "test_data=batchify(test_txt,eval_batch_size)\n"
   ]
  },
  {
   "cell_type": "code",
   "execution_count": 4,
   "metadata": {},
   "outputs": [],
   "source": [
    "bptt=35\n",
    "def get_batch(source,i):\n",
    "    seq_len=min(bptt,len(source)-1-i)\n",
    "    data=source[i:i+seq_len]\n",
    "    target=source[i+1:i+seq_lenen+1].view(-1)\n",
    "    return data,target"
   ]
  },
  {
   "cell_type": "raw",
   "metadata": {},
   "source": [
    "Initiate an Instance"
   ]
  },
  {
   "cell_type": "code",
   "execution_count": null,
   "metadata": {},
   "outputs": [],
   "source": [
    "ntokens=len(TEXT.vocab.stoi)#size of vocabulary\n",
    "emsize=200 # embedding dimension\n",
    "nhid=200 # number of hidden layer\n",
    "nlayers=2# the number of nn.TransformerEncoderLayer in nn.TransformerEncoder\n",
    "nhead=2 # number of heads in multidimension attention"
   ]
  },
  {
   "cell_type": "code",
   "execution_count": null,
   "metadata": {},
   "outputs": [],
   "source": []
  },
  {
   "cell_type": "code",
   "execution_count": null,
   "metadata": {},
   "outputs": [],
   "source": []
  },
  {
   "cell_type": "code",
   "execution_count": null,
   "metadata": {},
   "outputs": [],
   "source": []
  },
  {
   "cell_type": "code",
   "execution_count": null,
   "metadata": {},
   "outputs": [],
   "source": []
  }
 ],
 "metadata": {
  "kernelspec": {
   "display_name": "Python 3",
   "language": "python",
   "name": "python3"
  },
  "language_info": {
   "codemirror_mode": {
    "name": "ipython",
    "version": 3
   },
   "file_extension": ".py",
   "mimetype": "text/x-python",
   "name": "python",
   "nbconvert_exporter": "python",
   "pygments_lexer": "ipython3",
   "version": "3.7.4"
  }
 },
 "nbformat": 4,
 "nbformat_minor": 2
}
