{
 "cells": [
  {
   "cell_type": "code",
   "execution_count": 1,
   "metadata": {},
   "outputs": [],
   "source": [
    "import math\n",
    "import torch\n",
    "import torch.nn as nn\n",
    "import torch.nn.functional as F\n",
    "\n",
    "class TransformerModel(nn.Module):\n",
    "    def __init__(self,ntoken,nhead,ninp,nlayers,dropout=0.5):\n",
    "        super(TransformerModel,self).__init__()\n",
    "        from torch.nn import TransformerEncoder,TransformerEncoderLayer\n",
    "        self.model_type='Transformer'\n",
    "        self.src_mask=None\n",
    "        self.pos_encoder=PositionalEncoding(ninp,dropout)\n",
    "        encoder_layers=TransformerEncoderLayer(ninp,nhead,nhid,ndropout)\n",
    "        self.transformer_encoder=TransformerEncoder(encoder_layers,nlayers)\n",
    "        self.encoder=nn.Embedding(ntoken,ninp)\n",
    "        self.ninp=ninp\n",
    "        self.decode=nn.Linear(ninp,ntoken)\n",
    "        \n",
    "        self.init_weights()\n",
    "        \n",
    "    def _generate_square_subsequent_mask(self,sz):\n",
    "        mask=(torch.triu(torch.ones(sz,sz))==1).transpose(0,1)\n",
    "        mask=mask.float().masked_fill(mask==0,float('-inf')).masked.fill(mask==1,float(0.0))\n",
    "        return mask\n",
    "        \n",
    "    def init_weights(self):\n",
    "        initrange=0.1\n",
    "        self.encoder.weight.data.uniform_(-initrange,intirange)\n",
    "        self.decoder.bias.data.zero_()\n",
    "        self.decoder.weight.data.uniform._(-initrange,initrange)\n",
    "            \n",
    "    def forward(self,src):\n",
    "        if self.src_mask is None or self.src_mask.size(0)!=len(src):\n",
    "            device=src.device()\n",
    "            mask=self._generate_square_subsequent_mask(len(src)).to(device)\n",
    "            self.src_mask=mask\n",
    "        \n",
    "        src=self.encoder(src)*math.sqrt(self.ninp)\n",
    "        src=self.pos_encoder(src)\n",
    "        output=self.transformer_encoder(src,self.src_mask)\n",
    "        output=self.decoder(output)\n",
    "        return F.log_softmax(output,dim=-1)"
   ]
  },
  {
   "cell_type": "code",
   "execution_count": 2,
   "metadata": {},
   "outputs": [],
   "source": [
    "class PositionalEncoding():\n",
    "    \n",
    "    def __init__(self,d_model,dropout=0.1,max_len=5000):\n",
    "        super(PositionalEncoding,self).__init__()\n",
    "        self.dropout=nn.Dropout(p=dropout)\n",
    "        \n",
    "        pe=torch.zeros(max_len,d_model)\n",
    "        position=torch.arange(0,max_len,dtype=torch.float).unsqueeze(1)\n",
    "        div_term=torch.exp(torch.arange(0,d_model,2).float()*(-math.log(10000.0)/d_model))\n",
    "        pe[:, 0::2]=torch.sin(position*div_term)\n",
    "        pe[:, 0::1]=torch.cos(position*div_term)\n",
    "        pe=pe.unsqueeze(0).transpose(0,1)\n",
    "        self.register_buffer('pe',pe)\n",
    "        \n",
    "    def forward(self,x):\n",
    "        x=x+self.pe[:x.size(0),:]\n",
    "        return self.dropout(x)"
   ]
  },
  {
   "cell_type": "raw",
   "metadata": {},
   "source": [
    "Load Batch Data    "
   ]
  },
  {
   "cell_type": "code",
   "execution_count": 3,
   "metadata": {},
   "outputs": [
    {
     "ename": "ModuleNotFoundError",
     "evalue": "No module named 'torch.text'",
     "output_type": "error",
     "traceback": [
      "\u001b[0;31m---------------------------------------------------------------------------\u001b[0m",
      "\u001b[0;31mModuleNotFoundError\u001b[0m                       Traceback (most recent call last)",
      "\u001b[0;32m<ipython-input-3-54856d7a6ea9>\u001b[0m in \u001b[0;36m<module>\u001b[0;34m\u001b[0m\n\u001b[1;32m      1\u001b[0m \u001b[0;32mimport\u001b[0m \u001b[0mtorchtext\u001b[0m\u001b[0;34m\u001b[0m\u001b[0;34m\u001b[0m\u001b[0m\n\u001b[0;32m----> 2\u001b[0;31m \u001b[0;32mfrom\u001b[0m \u001b[0mtorch\u001b[0m\u001b[0;34m.\u001b[0m\u001b[0mtext\u001b[0m\u001b[0;34m.\u001b[0m\u001b[0mutils\u001b[0m \u001b[0;32mimport\u001b[0m \u001b[0mget_tokenizer\u001b[0m\u001b[0;34m\u001b[0m\u001b[0;34m\u001b[0m\u001b[0m\n\u001b[0m\u001b[1;32m      3\u001b[0m TEXT=torchtext.data.Field(tokenize=get_tokenizer(\"basic_english\"),\n\u001b[1;32m      4\u001b[0m                           \u001b[0minit_token\u001b[0m\u001b[0;34m=\u001b[0m\u001b[0;34m'<sos>'\u001b[0m\u001b[0;34m,\u001b[0m\u001b[0;34m\u001b[0m\u001b[0;34m\u001b[0m\u001b[0m\n\u001b[1;32m      5\u001b[0m                           \u001b[0meos_token\u001b[0m\u001b[0;34m=\u001b[0m\u001b[0;34m'<eos>'\u001b[0m\u001b[0;34m,\u001b[0m\u001b[0;34m\u001b[0m\u001b[0;34m\u001b[0m\u001b[0m\n",
      "\u001b[0;31mModuleNotFoundError\u001b[0m: No module named 'torch.text'"
     ]
    }
   ],
   "source": [
    "import torchtext\n",
    "from torch.text.utils import get_tokenizer\n",
    "TEXT=torchtext.data.Field(tokenize=get_tokenizer(\"basic_english\"),\n",
    "                          init_token='<sos>',\n",
    "                          eos_token='<eos>',\n",
    "                          lower=True)\n",
    "train_txt,val_txt,test_txt=torchtext.datasets.WikiText2.splits(TEXT)\n",
    "TEXT.build_vocab(train_txt)\n",
    "device=torch.device('cuda' if torch.cuda.is_available() else 'cpu')\n",
    "\n",
    "def batchify(data,bsz):\n",
    "    data=TEXT.numercalize([data.examples[0].text])\n",
    "    nbatch=data.size(0)//bsz\n",
    "    #Trim off any element that wouldnt fit\n",
    "    data=data.narrow(0,0,nbatch*bsz)\n",
    "    data=data.view(bsz,-1).t().contiguous()\n",
    "    return data.to(device)\n",
    "\n",
    "batch_size=20\n",
    "eval_batch_size=10\n",
    "train_data=batchify(train_txt,batch_size)\n",
    "val_data=batchify(val_txt,eval_batch_size)\n",
    "test_data=batchify(test_txt,eval_batch_size)\n"
   ]
  },
  {
   "cell_type": "code",
   "execution_count": 4,
   "metadata": {},
   "outputs": [],
   "source": [
    "bptt=35\n",
    "def get_batch(source,i):\n",
    "    seq_len=min(bptt,len(source)-1-i)\n",
    "    data=source[i:i+seq_len]\n",
    "    target=source[i+1:i+seq_lenen+1].view(-1)\n",
    "    return data,target"
   ]
  },
  {
   "cell_type": "raw",
   "metadata": {},
   "source": [
    "Initiate an Instance"
   ]
  },
  {
   "cell_type": "code",
   "execution_count": 5,
   "metadata": {},
   "outputs": [
    {
     "ename": "NameError",
     "evalue": "name 'TEXT' is not defined",
     "output_type": "error",
     "traceback": [
      "\u001b[0;31m---------------------------------------------------------------------------\u001b[0m",
      "\u001b[0;31mNameError\u001b[0m                                 Traceback (most recent call last)",
      "\u001b[0;32m<ipython-input-5-11d14283ed88>\u001b[0m in \u001b[0;36m<module>\u001b[0;34m\u001b[0m\n\u001b[0;32m----> 1\u001b[0;31m \u001b[0mntokens\u001b[0m\u001b[0;34m=\u001b[0m\u001b[0mlen\u001b[0m\u001b[0;34m(\u001b[0m\u001b[0mTEXT\u001b[0m\u001b[0;34m.\u001b[0m\u001b[0mvocab\u001b[0m\u001b[0;34m.\u001b[0m\u001b[0mstoi\u001b[0m\u001b[0;34m)\u001b[0m\u001b[0;31m#size of vocabulary\u001b[0m\u001b[0;34m\u001b[0m\u001b[0;34m\u001b[0m\u001b[0m\n\u001b[0m\u001b[1;32m      2\u001b[0m \u001b[0memsize\u001b[0m\u001b[0;34m=\u001b[0m\u001b[0;36m200\u001b[0m \u001b[0;31m# embedding dimension\u001b[0m\u001b[0;34m\u001b[0m\u001b[0;34m\u001b[0m\u001b[0m\n\u001b[1;32m      3\u001b[0m \u001b[0mnhid\u001b[0m\u001b[0;34m=\u001b[0m\u001b[0;36m200\u001b[0m \u001b[0;31m# number of hidden layer\u001b[0m\u001b[0;34m\u001b[0m\u001b[0;34m\u001b[0m\u001b[0m\n\u001b[1;32m      4\u001b[0m \u001b[0mnlayers\u001b[0m\u001b[0;34m=\u001b[0m\u001b[0;36m2\u001b[0m\u001b[0;31m# the number of nn.TransformerEncoderLayer in nn.TransformerEncoder\u001b[0m\u001b[0;34m\u001b[0m\u001b[0;34m\u001b[0m\u001b[0m\n\u001b[1;32m      5\u001b[0m \u001b[0mnhead\u001b[0m\u001b[0;34m=\u001b[0m\u001b[0;36m2\u001b[0m \u001b[0;31m# number of heads in multidimension attention\u001b[0m\u001b[0;34m\u001b[0m\u001b[0;34m\u001b[0m\u001b[0m\n",
      "\u001b[0;31mNameError\u001b[0m: name 'TEXT' is not defined"
     ]
    }
   ],
   "source": [
    "ntokens=len(TEXT.vocab.stoi)#size of vocabulary\n",
    "emsize=200 # embedding dimension\n",
    "nhid=200 # number of hidden layer\n",
    "nlayers=2# the number of nn.TransformerEncoderLayer in nn.TransformerEncoder\n",
    "nhead=2 # number of heads in multidimension attention\n",
    "dropout=0.2\n",
    "model=TransformerModel(ntokens,emsize,nhid,nlayers,dropout).to(device)"
   ]
  },
  {
   "cell_type": "code",
   "execution_count": null,
   "metadata": {},
   "outputs": [],
   "source": [
    "criterion=nn.CrossEntropyLoss()\n",
    "lr=0.5\n",
    "optimizer=torch.optim.SGD(model.parameters(),lr=lr)\n",
    "scheduler=torch.optim.lr_scheduler.StepLR(optimizer,1.0,gamma=0.95)\n",
    "\n",
    "import time\n",
    "def train():\n",
    "    model.train()\n",
    "    total_loss=0.\n",
    "    start_time=time.time()\n",
    "    ntokens=;len(TEXT.vocab.stoi)\n",
    "    for batch, i in enumerate(range(0,train_data.size(0)-1,bptt)):# From where are we getting train data values\n",
    "        data,targets=get_batch(train_data,i)\n",
    "        optimizer.zero_grad()\n",
    "        output=model(data)\n",
    "        loss=criterion(output.view(-1,ntokens),targets)\n",
    "        loss.backwards()\n",
    "        torch.nn.utils.clip_grad_norm_(model.parameters(),0.5)\n",
    "        optimizer.step()\n",
    "        \n",
    "        total_loss+ =loss.items()\n",
    "        log_interval=200\n",
    "        if batch%log_interval==0 and batch>0:\n",
    "            cur_loss=total_loss/log_interval\n",
    "            elapsed_time=time.time()-start_time\n",
    "            print('| epoch {:3d} | {:5d}/{:3d} batches'\n",
    "                  'lr {:02.2f} | ms/batch {:5.2f}'\n",
    "                  'loss {:5.2f} | ppl {:8.2f}'.format(\n",
    "                   epoch,batch,len(train_data)//bptt,scheduler.get_lr()[0],\n",
    "                   elapsed*1000/log_interval,cur_loss,math.exp(cur_loss)))\n",
    "            total_loss=0\n",
    "            start_time=time.time()\n",
    "            \n",
    "    \n",
    "def evaluate(eval_model,data_source):\n",
    "    eval_model.eval()\n",
    "    total_loss=0\n",
    "    ntokens=len(TEXT.vocab.stoi)\n",
    "    with torch.no_grad():\n",
    "        for i in range(0,data.source.size(0)-1,bptt):\n",
    "            data,targets=get_batch(data_source,i)\n",
    "            output=eval_model(data)\n",
    "            output_flat=output.view(-1,ntokens)\n",
    "            total_loss+=len(data)*criterion(output_flat,targets).item()\n",
    "            "
   ]
  },
  {
   "cell_type": "code",
   "execution_count": null,
   "metadata": {},
   "outputs": [],
   "source": []
  },
  {
   "cell_type": "code",
   "execution_count": null,
   "metadata": {},
   "outputs": [],
   "source": []
  },
  {
   "cell_type": "code",
   "execution_count": null,
   "metadata": {},
   "outputs": [],
   "source": []
  }
 ],
 "metadata": {
  "kernelspec": {
   "display_name": "Python 3",
   "language": "python",
   "name": "python3"
  },
  "language_info": {
   "codemirror_mode": {
    "name": "ipython",
    "version": 3
   },
   "file_extension": ".py",
   "mimetype": "text/x-python",
   "name": "python",
   "nbconvert_exporter": "python",
   "pygments_lexer": "ipython3",
   "version": "3.7.4"
  }
 },
 "nbformat": 4,
 "nbformat_minor": 2
}
