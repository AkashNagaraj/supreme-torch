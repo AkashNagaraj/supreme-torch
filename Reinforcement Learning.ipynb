{
 "cells": [
  {
   "cell_type": "code",
   "execution_count": 12,
   "metadata": {},
   "outputs": [],
   "source": [
    "import gym\n",
    "import math\n",
    "import random\n",
    "import numpy as np\n",
    "import matplotlib\n",
    "import matplotlib.pyplot as plt\n",
    "from collections import namedtuple\n",
    "from itertools import count\n",
    "from PIL import Image\n",
    "\n",
    "import torch\n",
    "import torch.nn as nn\n",
    "import torch.optim as optim\n",
    "import torch.nn.functional as F\n",
    "import torchvision.transforms as T"
   ]
  },
  {
   "cell_type": "code",
   "execution_count": 33,
   "metadata": {},
   "outputs": [],
   "source": [
    "env=gym.make('CartPole-v0').unwrapped\n",
    "env.reset()\n",
    "\n",
    "is_python='inline' in matplotlib.get_backend()\n",
    "if is_python:\n",
    "    from IPython import display\n",
    "    \n",
    "plt.ion()\n",
    "\n",
    "device=torch.device(\"cuda\" if torch.cuda.is_available() else \"cpu\")"
   ]
  },
  {
   "cell_type": "code",
   "execution_count": 18,
   "metadata": {},
   "outputs": [],
   "source": [
    "Transition=namedtuple('Transition',('state','action','next_state','reward'))\n",
    "\n",
    "class ReplayMemory(object):\n",
    "    \n",
    "    def __init__(self,capacity):\n",
    "        self.capacity=capacity\n",
    "        self.memory=[]\n",
    "        self.position=0\n",
    "        \n",
    "    def push(self,*args):\n",
    "        \"\"\"Saves a transition\"\"\"\n",
    "        if len(self.memory)<self.capacity:\n",
    "            self.memory.append(None)\n",
    "        self.memory[self.position]=Transisiton(*args)\n",
    "        self.position=(self.position+1)%self.capacity\n",
    "        \n",
    "    def sample(self,batch_size):\n",
    "        return random.sample(self.memory,batch_size)\n",
    "    \n",
    "    def __len__(self):\n",
    "        return len(self.memory)    "
   ]
  },
  {
   "cell_type": "raw",
   "metadata": {},
   "source": [
    "DQN Algo - Find a policy that maximizes discounted rewards. Q* : State x Action -> Reward"
   ]
  },
  {
   "cell_type": "code",
   "execution_count": 22,
   "metadata": {},
   "outputs": [],
   "source": [
    "class DQN(nn.Module):\n",
    "    \n",
    "    def __init__(self,h,w,outputs):\n",
    "        super(DQN,self).__init__()\n",
    "        self.conv1=nn.Conv2d(3,16,kernel_size=5,strides=2)\n",
    "        self.bn1=nn.BatchNorm2d(16)\n",
    "        self.conv2=nn.Conv2d(16,32,kernel_size=5,strides=2)\n",
    "        self.bn2=nn.BatchNorm2d(32)\n",
    "        self.conv3=nn.Conv2d(32,32,kernel_size=5,strides=2)\n",
    "        self.bn3=nn.BatchNorm2d(32)\n",
    "                             \n",
    "        #Num of linera input connections depend on output of conv2d layers\n",
    "                             \n",
    "        def conv2d_size_out(size,kernel_size=5,strides=2):\n",
    "            return (size-(kernel_size-1)-1)//strides+1\n",
    "        convw=conv2d_size_out(conv2d_size_out(conv2d_size_out(w)))\n",
    "        convh=conv2d_size_out(conv2d_size_out(conv2d_size_out(h)))\n",
    "        linear_input_size=convw*convh*32\n",
    "        self.head=nn.Linear(linear_input_size,outputs)\n",
    "        \n",
    "    def forward():\n",
    "        x=F.relu(self.bn1(self.conv1(x)))\n",
    "        x=F.relu(self.bn2(self.conv2(x)))\n",
    "        x=F.relu(self.bn3(self.conv3(x)))\n",
    "        return self.head(x.view(x.size(0),-1))\n",
    "    "
   ]
  },
  {
   "cell_type": "code",
   "execution_count": 35,
   "metadata": {},
   "outputs": [
    {
     "data": {
      "text/plain": [
       "'resize=T.Compose([T.ToPILImage(),T.Resize(40,interpolation=Image.CUBIC),T.ToTensor()])\\n\\ndef get_cart_location(screen_width):\\n    world_width=env.x_threshold*2\\n    scale=screen_width/world_width\\n    return int(env.state[0]*scale+screen_width/2.0)\\n\\ndef get_screen():\\n    # gym screen is 400*600*3 or 800*1200*3\\n    screen=env.render(mode=\"rgb_array\").transpose((2,0,1))\\n    \\n    #cart is in the lower half\\n    _,screen_height,screen_width=screeen.shape\\n    screen=screen[:,int(screen_height*0.4):int(screen_height*0.8)]\\n    view_width=int(screen_width*0.6)\\n    cart_location=get_cart_location(screen_width)\\n    if cart_location<view_width//2:\\n        slice_range=slice(view_width)\\n    elif cart_location>(screen_width-view_width//2):\\n        slice_range=slice(-view_width,None)\\n    else:\\n        slice_range=slice(cart_location-view_width//2,cart_location+view_width//2)\\n        \\n    screen=screen[:,:,slice_range]\\n    screen=np.ascontiguousarray(screen,dtype=np.float32)/255\\n    screen=torch.from_numpy(screen)\\n    return resize(screen).unsqueeze(0).to(device)\\n\\nenv.reset()\\nplt.figure()\\nplt.imshow(get_screen().cpu().squeeze(0).permute(1,2,0).numpy(),interpolation=\\'none\\')\\nplt.title(\\'Example of extracted Screen\\')\\nplt.show()'"
      ]
     },
     "execution_count": 35,
     "metadata": {},
     "output_type": "execute_result"
    }
   ],
   "source": [
    "\"\"\"resize=T.Compose([T.ToPILImage(),T.Resize(40,interpolation=Image.CUBIC),T.ToTensor()])\n",
    "\n",
    "def get_cart_location(screen_width):\n",
    "    world_width=env.x_threshold*2\n",
    "    scale=screen_width/world_width\n",
    "    return int(env.state[0]*scale+screen_width/2.0)\n",
    "\n",
    "def get_screen():\n",
    "    # gym screen is 400*600*3 or 800*1200*3\n",
    "    screen=env.render(mode=\"rgb_array\").transpose((2,0,1))\n",
    "    \n",
    "    #cart is in the lower half\n",
    "    _,screen_height,screen_width=screeen.shape\n",
    "    screen=screen[:,int(screen_height*0.4):int(screen_height*0.8)]\n",
    "    view_width=int(screen_width*0.6)\n",
    "    cart_location=get_cart_location(screen_width)\n",
    "    if cart_location<view_width//2:\n",
    "        slice_range=slice(view_width)\n",
    "    elif cart_location>(screen_width-view_width//2):\n",
    "        slice_range=slice(-view_width,None)\n",
    "    else:\n",
    "        slice_range=slice(cart_location-view_width//2,cart_location+view_width//2)\n",
    "        \n",
    "    screen=screen[:,:,slice_range]\n",
    "    screen=np.ascontiguousarray(screen,dtype=np.float32)/255\n",
    "    screen=torch.from_numpy(screen)\n",
    "    return resize(screen).unsqueeze(0).to(device)\n",
    "\n",
    "env.reset()\n",
    "plt.figure()\n",
    "plt.imshow(get_screen().cpu().squeeze(0).permute(1,2,0).numpy(),interpolation='none')\n",
    "plt.title('Example of extracted Screen')\n",
    "plt.show()\"\"\""
   ]
  },
  {
   "cell_type": "code",
   "execution_count": 41,
   "metadata": {},
   "outputs": [
    {
     "ename": "NameError",
     "evalue": "name 'base' is not defined",
     "output_type": "error",
     "traceback": [
      "\u001b[0;31m---------------------------------------------------------------------------\u001b[0m",
      "\u001b[0;31mNameError\u001b[0m                                 Traceback (most recent call last)",
      "\u001b[0;32m<ipython-input-41-6fa772bd725c>\u001b[0m in \u001b[0;36m<module>\u001b[0;34m\u001b[0m\n\u001b[1;32m      1\u001b[0m \u001b[0menv\u001b[0m\u001b[0;34m.\u001b[0m\u001b[0mclose\u001b[0m\u001b[0;34m(\u001b[0m\u001b[0;34m)\u001b[0m\u001b[0;34m\u001b[0m\u001b[0m\n\u001b[0;32m----> 2\u001b[0;31m \u001b[0mscreen\u001b[0m\u001b[0;34m=\u001b[0m\u001b[0menv\u001b[0m\u001b[0;34m.\u001b[0m\u001b[0mrender\u001b[0m\u001b[0;34m(\u001b[0m\u001b[0;34m)\u001b[0m\u001b[0;34m\u001b[0m\u001b[0m\n\u001b[0m",
      "\u001b[0;32m~/.local/lib/python3.5/site-packages/gym/envs/classic_control/cartpole.py\u001b[0m in \u001b[0;36mrender\u001b[0;34m(self, mode)\u001b[0m\n\u001b[1;32m    148\u001b[0m \u001b[0;34m\u001b[0m\u001b[0m\n\u001b[1;32m    149\u001b[0m         \u001b[0;32mif\u001b[0m \u001b[0mself\u001b[0m\u001b[0;34m.\u001b[0m\u001b[0mviewer\u001b[0m \u001b[0;32mis\u001b[0m \u001b[0;32mNone\u001b[0m\u001b[0;34m:\u001b[0m\u001b[0;34m\u001b[0m\u001b[0m\n\u001b[0;32m--> 150\u001b[0;31m             \u001b[0;32mfrom\u001b[0m \u001b[0mgym\u001b[0m\u001b[0;34m.\u001b[0m\u001b[0menvs\u001b[0m\u001b[0;34m.\u001b[0m\u001b[0mclassic_control\u001b[0m \u001b[0;32mimport\u001b[0m \u001b[0mrendering\u001b[0m\u001b[0;34m\u001b[0m\u001b[0m\n\u001b[0m\u001b[1;32m    151\u001b[0m             \u001b[0mself\u001b[0m\u001b[0;34m.\u001b[0m\u001b[0mviewer\u001b[0m \u001b[0;34m=\u001b[0m \u001b[0mrendering\u001b[0m\u001b[0;34m.\u001b[0m\u001b[0mViewer\u001b[0m\u001b[0;34m(\u001b[0m\u001b[0mscreen_width\u001b[0m\u001b[0;34m,\u001b[0m \u001b[0mscreen_height\u001b[0m\u001b[0;34m)\u001b[0m\u001b[0;34m\u001b[0m\u001b[0m\n\u001b[1;32m    152\u001b[0m             \u001b[0ml\u001b[0m\u001b[0;34m,\u001b[0m\u001b[0mr\u001b[0m\u001b[0;34m,\u001b[0m\u001b[0mt\u001b[0m\u001b[0;34m,\u001b[0m\u001b[0mb\u001b[0m \u001b[0;34m=\u001b[0m \u001b[0;34m-\u001b[0m\u001b[0mcartwidth\u001b[0m\u001b[0;34m/\u001b[0m\u001b[0;36m2\u001b[0m\u001b[0;34m,\u001b[0m \u001b[0mcartwidth\u001b[0m\u001b[0;34m/\u001b[0m\u001b[0;36m2\u001b[0m\u001b[0;34m,\u001b[0m \u001b[0mcartheight\u001b[0m\u001b[0;34m/\u001b[0m\u001b[0;36m2\u001b[0m\u001b[0;34m,\u001b[0m \u001b[0;34m-\u001b[0m\u001b[0mcartheight\u001b[0m\u001b[0;34m/\u001b[0m\u001b[0;36m2\u001b[0m\u001b[0;34m\u001b[0m\u001b[0m\n",
      "\u001b[0;32m~/.local/lib/python3.5/site-packages/gym/envs/classic_control/rendering.py\u001b[0m in \u001b[0;36m<module>\u001b[0;34m\u001b[0m\n\u001b[1;32m     25\u001b[0m \u001b[0;34m\u001b[0m\u001b[0m\n\u001b[1;32m     26\u001b[0m \u001b[0;32mtry\u001b[0m\u001b[0;34m:\u001b[0m\u001b[0;34m\u001b[0m\u001b[0m\n\u001b[0;32m---> 27\u001b[0;31m     \u001b[0;32mfrom\u001b[0m \u001b[0mpyglet\u001b[0m\u001b[0;34m.\u001b[0m\u001b[0mgl\u001b[0m \u001b[0;32mimport\u001b[0m \u001b[0;34m*\u001b[0m\u001b[0;34m\u001b[0m\u001b[0m\n\u001b[0m\u001b[1;32m     28\u001b[0m \u001b[0;32mexcept\u001b[0m \u001b[0mImportError\u001b[0m \u001b[0;32mas\u001b[0m \u001b[0me\u001b[0m\u001b[0;34m:\u001b[0m\u001b[0;34m\u001b[0m\u001b[0m\n\u001b[1;32m     29\u001b[0m     raise ImportError('''\n",
      "\u001b[0;32m~/.local/lib/python3.5/site-packages/pyglet/gl/__init__.py\u001b[0m in \u001b[0;36m<module>\u001b[0;34m\u001b[0m\n\u001b[1;32m    225\u001b[0m     \u001b[0;32melse\u001b[0m\u001b[0;34m:\u001b[0m\u001b[0;34m\u001b[0m\u001b[0m\n\u001b[1;32m    226\u001b[0m         \u001b[0;32mfrom\u001b[0m \u001b[0;34m.\u001b[0m\u001b[0mcarbon\u001b[0m \u001b[0;32mimport\u001b[0m \u001b[0mCarbonConfig\u001b[0m \u001b[0;32mas\u001b[0m \u001b[0mConfig\u001b[0m\u001b[0;34m\u001b[0m\u001b[0m\n\u001b[0;32m--> 227\u001b[0;31m \u001b[0;32mdel\u001b[0m \u001b[0mbase\u001b[0m\u001b[0;34m\u001b[0m\u001b[0m\n\u001b[0m\u001b[1;32m    228\u001b[0m \u001b[0;34m\u001b[0m\u001b[0m\n\u001b[1;32m    229\u001b[0m \u001b[0;31m# XXX remove\u001b[0m\u001b[0;34m\u001b[0m\u001b[0;34m\u001b[0m\u001b[0m\n",
      "\u001b[0;31mNameError\u001b[0m: name 'base' is not defined"
     ]
    }
   ],
   "source": [
    "env.close()\n",
    "screen=env.render()\n"
   ]
  },
  {
   "cell_type": "code",
   "execution_count": null,
   "metadata": {},
   "outputs": [],
   "source": []
  },
  {
   "cell_type": "code",
   "execution_count": null,
   "metadata": {},
   "outputs": [],
   "source": []
  }
 ],
 "metadata": {
  "kernelspec": {
   "display_name": "Python 3",
   "language": "python",
   "name": "python3"
  },
  "language_info": {
   "codemirror_mode": {
    "name": "ipython",
    "version": 3
   },
   "file_extension": ".py",
   "mimetype": "text/x-python",
   "name": "python",
   "nbconvert_exporter": "python",
   "pygments_lexer": "ipython3",
   "version": "3.5.2"
  }
 },
 "nbformat": 4,
 "nbformat_minor": 2
}
