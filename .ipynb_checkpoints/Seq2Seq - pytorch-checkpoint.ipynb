{
 "cells": [
  {
   "cell_type": "code",
   "execution_count": 1,
   "metadata": {},
   "outputs": [],
   "source": [
    "import math\n",
    "import torch\n",
    "import torch.nn as nn\n",
    "import torch.nn.functional as F\n",
    "\n",
    "class TransformerModel(nn.Module):\n",
    "    def __init__(self,ntoken,nhead,ninp,nlayers,ndropout=0.5):\n",
    "        super(TransformerModel,self).__init__()\n",
    "        from torch.nn import TransformerEncoder,TransformerEncoderLayer\n",
    "        self.model_type='Transformer'\n",
    "        self.src_mask=None\n",
    "        self.pos_encoder=PositionalEncoding(ninp,dropout)\n",
    "        encoder_layers=TransformerEncoderLayer(ninp,nhead,nhid,ndropout)\n",
    "        self.transformer_encoder=TransformerEncoder(encoder_layers,nlayers)\n",
    "        self.encoder=nn.Embedding(ntoken,ninp)\n",
    "        self.ninp=ninp\n",
    "        self.decoder=nn.Linear(ninp,ntoken)\n",
    "        \n",
    "        self.init_weights()\n",
    "        \n",
    "    def _generate_square_subsequent_mask(self, sz):\n",
    "        mask = (torch.triu(torch.ones(sz, sz)) == 1).transpose(0, 1)\n",
    "        mask = mask.float().masked_fill(mask == 0, float('-inf')).masked_fill(mask == 1, float(0.0))\n",
    "        return mask\n",
    "        \n",
    "    def init_weights(self):\n",
    "        initrange=0.1\n",
    "        self.encoder.weight.data.uniform_(-initrange,initrange)\n",
    "        self.decoder.bias.data.zero_()\n",
    "        self.decoder.weight.data.uniform_(-initrange,initrange)\n",
    "            \n",
    "    def forward(self,src):\n",
    "        if self.src_mask is None or self.src_mask.size(0)!=len(src):\n",
    "            device=src.device\n",
    "            mask=self._generate_square_subsequent_mask(len(src)).to(device)\n",
    "            self.src_mask=mask\n",
    "        \n",
    "        src=self.encoder(src)*math.sqrt(self.ninp)\n",
    "        src=self.pos_encoder(src)\n",
    "        output=self.transformer_encoder(src,self.src_mask)\n",
    "        output=self.decoder(output)\n",
    "        return F.log_softmax(output,dim=-1)"
   ]
  },
  {
   "cell_type": "code",
   "execution_count": 2,
   "metadata": {},
   "outputs": [],
   "source": [
    "class PositionalEncoding(nn.Module):\n",
    "    \n",
    "    def __init__(self,d_model,dropout=0.1,max_len=5000):\n",
    "        super(PositionalEncoding,self).__init__()\n",
    "        self.dropout=nn.Dropout(p=dropout)\n",
    "        pe=torch.zeros(max_len,d_model)\n",
    "        position=torch.arange(0,max_len,dtype=torch.float).unsqueeze(1)\n",
    "        div_term=torch.exp(torch.arange(0,d_model,2).float()*(-math.log(10000.0)/d_model))\n",
    "        pe[:, 0::2]=torch.sin(position*div_term)\n",
    "        pe[:, 1::2]=torch.cos(position*div_term)\n",
    "        pe=pe.unsqueeze(0).transpose(0,1)\n",
    "        self.register_buffer('pe',pe)\n",
    "        \n",
    "    def forward(self,x):\n",
    "        x=x+self.pe[:x.size(0),:]\n",
    "        return self.dropout(x)"
   ]
  },
  {
   "cell_type": "raw",
   "metadata": {},
   "source": [
    "Load Batch Data    "
   ]
  },
  {
   "cell_type": "code",
   "execution_count": 3,
   "metadata": {},
   "outputs": [],
   "source": [
    "import torchtext\n",
    "from torchtext.data.utils import get_tokenizer\n",
    "TEXT=torchtext.data.Field(tokenize=get_tokenizer(\"basic_english\"),\n",
    "                          init_token='<sos>',\n",
    "                          eos_token='<eos>',\n",
    "                          lower=True)\n",
    "train_txt,val_txt,test_txt=torchtext.datasets.WikiText2.splits(TEXT)\n",
    "TEXT.build_vocab(train_txt)\n",
    "device=torch.device('cuda' if torch.cuda.is_available() else 'cpu')\n",
    "\n",
    "def batchify(data,bsz):\n",
    "    data=TEXT.numericalize([data.examples[0].text])\n",
    "    nbatch=data.size(0)//bsz\n",
    "    #Trim off any element that wouldnt fit\n",
    "    data=data.narrow(0,0,nbatch*bsz)\n",
    "    data=data.view(bsz,-1).t().contiguous()\n",
    "    return data.to(device)\n",
    "\n",
    "batch_size=20\n",
    "eval_batch_size=10\n",
    "train_data=batchify(train_txt,batch_size)\n",
    "val_data=batchify(val_txt,eval_batch_size)\n",
    "test_data=batchify(test_txt,eval_batch_size)"
   ]
  },
  {
   "cell_type": "code",
   "execution_count": 4,
   "metadata": {},
   "outputs": [
    {
     "name": "stdout",
     "output_type": "stream",
     "text": [
      "3.5.2\n"
     ]
    }
   ],
   "source": [
    "from platform import python_version\n",
    "\n",
    "print(python_version())"
   ]
  },
  {
   "cell_type": "code",
   "execution_count": 5,
   "metadata": {},
   "outputs": [],
   "source": [
    "bptt=35\n",
    "def get_batch(source,i):\n",
    "    seq_len=min(bptt,len(source)-1-i)\n",
    "    data=source[i:i+seq_len]\n",
    "    target=source[i+1:i+seq_len+1].view(-1)\n",
    "    #print(\"DATA-{}-{}-:\".format(i,type(data)))\n",
    "    return(data,target)"
   ]
  },
  {
   "cell_type": "raw",
   "metadata": {},
   "source": [
    "Initiate an Instance"
   ]
  },
  {
   "cell_type": "code",
   "execution_count": 6,
   "metadata": {},
   "outputs": [],
   "source": [
    "ntokens=len(TEXT.vocab.stoi)#size of vocabulary\n",
    "emsize=200 # embedding dimension\n",
    "nhid=200 # number of hidden layer\n",
    "nlayers=2# the number of nn.TransformerEncoderLayer in nn.TransformerEncoder\n",
    "nhead=2 # number of heads in multidimension attention\n",
    "dropout=0.2\n",
    "model=TransformerModel(ntokens,emsize,nhid,nlayers,dropout).to(device)"
   ]
  },
  {
   "cell_type": "code",
   "execution_count": 7,
   "metadata": {},
   "outputs": [],
   "source": [
    "criterion=nn.CrossEntropyLoss()\n",
    "lr=0.5\n",
    "optimizer=torch.optim.SGD(model.parameters(),lr=lr)\n",
    "scheduler=torch.optim.lr_scheduler.StepLR(optimizer,1.0,gamma=0.95)\n",
    "\n",
    "import time\n",
    "def train():\n",
    "    model.train()\n",
    "    total_loss=0.\n",
    "    start_time=time.time()\n",
    "    ntokens=len(TEXT.vocab.stoi)\n",
    "    for batch, i in enumerate(range(0,train_data.size(0)-1,bptt)):# From where are we getting train data values\n",
    "        data,targets=get_batch(train_data,i)\n",
    "        optimizer.zero_grad()\n",
    "        output=model(data)\n",
    "        loss=criterion(output.view(-1,ntokens),targets)\n",
    "        loss.backward()\n",
    "        torch.nn.utils.clip_grad_norm_(model.parameters(),0.5)\n",
    "        optimizer.step()\n",
    "        \n",
    "        total_loss +=loss.item()\n",
    "        log_interval=200\n",
    "        if batch%log_interval==0 and batch>0:\n",
    "            cur_loss=total_loss/log_interval\n",
    "            elapsed=time.time()-start_time\n",
    "            print('| epoch {:3d} | {:5d}/{:3d} batches'\n",
    "                  'lr {:02.2f} | ms/batch {:5.2f}'\n",
    "                  'loss {:5.2f} | ppl {:8.2f}'.format(\n",
    "                   epoch,batch,len(train_data)//bptt,scheduler.get_lr()[0],\n",
    "                   elapsed*1000/log_interval,cur_loss,math.exp(cur_loss)))\n",
    "            total_loss=0\n",
    "            start_time=time.time()\n",
    "            \n",
    "    \n",
    "def evaluate(eval_model,data_source):\n",
    "    eval_model.eval()\n",
    "    total_loss=0\n",
    "    ntokens=len(TEXT.vocab.stoi)\n",
    "    with torch.no_grad():\n",
    "        for i in range(0,data_source.size(0)-1,bptt):\n",
    "            data,targets=get_batch(data_source,i)\n",
    "            output=eval_model(data)\n",
    "            output_flat=output.view(-1,ntokens)\n",
    "            total_loss+=len(data)*criterion(output_flat,targets).item()     "
   ]
  },
  {
   "cell_type": "code",
   "execution_count": 8,
   "metadata": {},
   "outputs": [
    {
     "name": "stdout",
     "output_type": "stream",
     "text": [
      "| epoch   1 |   200/2981 batcheslr 0.50 | ms/batch 25.20loss  7.43 | ppl  1678.63\n",
      "| epoch   1 |   400/2981 batcheslr 0.50 | ms/batch 25.01loss  6.84 | ppl   935.18\n",
      "| epoch   1 |   600/2981 batcheslr 0.50 | ms/batch 25.07loss  6.65 | ppl   773.69\n",
      "| epoch   1 |   800/2981 batcheslr 0.50 | ms/batch 25.08loss  6.58 | ppl   717.74\n",
      "| epoch   1 |  1000/2981 batcheslr 0.50 | ms/batch 25.22loss  6.47 | ppl   647.33\n",
      "| epoch   1 |  1200/2981 batcheslr 0.50 | ms/batch 24.68loss  6.45 | ppl   633.53\n",
      "| epoch   1 |  1400/2981 batcheslr 0.50 | ms/batch 25.14loss  6.38 | ppl   587.80\n",
      "| epoch   1 |  1600/2981 batcheslr 0.50 | ms/batch 24.77loss  6.37 | ppl   584.13\n",
      "| epoch   1 |  1800/2981 batcheslr 0.50 | ms/batch 24.94loss  6.30 | ppl   546.83\n",
      "| epoch   1 |  2000/2981 batcheslr 0.50 | ms/batch 25.06loss  6.29 | ppl   539.35\n",
      "| epoch   1 |  2200/2981 batcheslr 0.50 | ms/batch 24.98loss  6.19 | ppl   488.57\n",
      "| epoch   1 |  2400/2981 batcheslr 0.50 | ms/batch 24.91loss  6.19 | ppl   490.14\n",
      "| epoch   1 |  2600/2981 batcheslr 0.50 | ms/batch 24.94loss  6.20 | ppl   490.40\n",
      "| epoch   1 |  2800/2981 batcheslr 0.50 | ms/batch 24.96loss  6.11 | ppl   450.80\n",
      "-----------------------------------------------------------------------------------------\n"
     ]
    },
    {
     "ename": "IndexError",
     "evalue": "tuple index out of range",
     "output_type": "error",
     "traceback": [
      "\u001b[0;31m---------------------------------------------------------------------------\u001b[0m",
      "\u001b[0;31mIndexError\u001b[0m                                Traceback (most recent call last)",
      "\u001b[0;32m<ipython-input-8-4a08e13dee09>\u001b[0m in \u001b[0;36m<module>\u001b[0;34m\u001b[0m\n\u001b[1;32m      9\u001b[0m     \u001b[0mprint\u001b[0m\u001b[0;34m(\u001b[0m\u001b[0;34m'-'\u001b[0m\u001b[0;34m*\u001b[0m\u001b[0;36m89\u001b[0m\u001b[0;34m)\u001b[0m\u001b[0;34m\u001b[0m\u001b[0m\n\u001b[1;32m     10\u001b[0m     print('| enf of epoch {:3d} | time:: {:5.2f}s | valid loss {:5.2f} |'\n\u001b[0;32m---> 11\u001b[0;31m          'valid ppl {:8.2f}'.format(epoch,time.time()-epoch_start_time),val_loss,math.exp(val_loss))\n\u001b[0m\u001b[1;32m     12\u001b[0m     \u001b[0mprint\u001b[0m\u001b[0;34m(\u001b[0m\u001b[0;34m'-'\u001b[0m\u001b[0;34m*\u001b[0m\u001b[0;36m89\u001b[0m\u001b[0;34m)\u001b[0m\u001b[0;34m\u001b[0m\u001b[0m\n\u001b[1;32m     13\u001b[0m \u001b[0;34m\u001b[0m\u001b[0m\n",
      "\u001b[0;31mIndexError\u001b[0m: tuple index out of range"
     ]
    }
   ],
   "source": [
    "best_val_loss=float(\"inf\")\n",
    "epochs=3\n",
    "best_model=None\n",
    "\n",
    "for epoch in range(1,epochs+1):\n",
    "    epoch_start_time=time.time()\n",
    "    train()\n",
    "    val_loss=evaluate(model,val_data)\n",
    "    print('-'*89)\n",
    "    print('| enf of epoch {:3d} | time:: {:5.2f}s | valid loss {:5.2f} |'\n",
    "         'valid ppl {:8.2f}'.format(epoch,time.time()-epoch_start_time,val_loss,math.exp(val_loss))\n",
    "    print('-'*89)\n",
    "    \n",
    "    if val_loss<best_val_loss:\n",
    "        best_val_loss=val_loss\n",
    "        best_model=model\n",
    "    \n",
    "    scheduler.step()"
   ]
  },
  {
   "cell_type": "code",
   "execution_count": null,
   "metadata": {},
   "outputs": [],
   "source": []
  },
  {
   "cell_type": "code",
   "execution_count": null,
   "metadata": {},
   "outputs": [],
   "source": []
  }
 ],
 "metadata": {
  "kernelspec": {
   "display_name": "Python 3",
   "language": "python",
   "name": "python3"
  },
  "language_info": {
   "codemirror_mode": {
    "name": "ipython",
    "version": 3
   },
   "file_extension": ".py",
   "mimetype": "text/x-python",
   "name": "python",
   "nbconvert_exporter": "python",
   "pygments_lexer": "ipython3",
   "version": "3.5.2"
  }
 },
 "nbformat": 4,
 "nbformat_minor": 2
}
